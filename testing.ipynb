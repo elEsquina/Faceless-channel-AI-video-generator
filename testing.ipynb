{
 "cells": [
  {
   "cell_type": "code",
   "execution_count": null,
   "metadata": {},
   "outputs": [],
   "source": [
    "import openai\n",
    "\n",
    "# Set up your API key\n",
    "openai.api_key = 'YOUR_API_KEY_HERE'\n",
    "\n",
    "# Define a function to interact with ChatGPT\n",
    "def chat_with_gpt(prompt):\n",
    "    response = openai.Completion.create(\n",
    "        engine=\"text-davinci-003\",  # or \"gpt-3.5-turbo\" or \"gpt-4\" based on your needs\n",
    "        prompt=prompt,\n",
    "        max_tokens=150,  # Adjust as needed\n",
    "        temperature=0.7  # Adjust creativity (0.0 to 1.0)\n",
    "    )\n",
    "    return response.choices[0].text.strip()\n",
    "\n",
    "# Example usage\n",
    "user_prompt = \"What's the weather like today?\"\n",
    "reply = chat_with_gpt(user_prompt)\n",
    "print(reply)\n"
   ]
  },
  {
   "cell_type": "code",
   "execution_count": 4,
   "metadata": {},
   "outputs": [
    {
     "data": {
      "text/plain": [
       "'i have eight siblings: lucas, amy, michael, june, tex, jackson, nick, and martin. in case anyone\\'s asking, my mom married three different people, so growing up i was raised with three different dads. all nine of us were close. we were essentially inseparable. growing up we fought school bullies together, helped each other with our homework, and even formed a rock band at some point, though that didn\\'t last long it started three weeks ago. i was in class when i got the notification that lucas had been killed in a car accident. i remember the funeral vividly. no tears, nothing. just a weird sense of dread and emptiness. after the funeral, me and my siblings sat in silence. we didn\\'t feel sad, we didn\\'t cry. we just felt a sense of dread and impending doom. throughout the next two weeks my siblings began dying under mysterious circumstances. amy was strangled by a power cord after fixing something in her house with her husband, michael was crushed by a falling tree, june was electrocuted in her basement during a thunderstorm, tex suffered a fatal heart attack while in his home, jackson fell off the roof of his home while fixing roof tiles, and nick choked on food while eating dinner with his family. throughout all this, i began experiencing and seeing weird shit happen around me. stuff around my house began to disappear and reappear, crows were now crashing into my window, dogs began weirdly avoiding my home, and mysterious figures began staring at me outside my home. in addition to all this, i developed sleep paralysis, a condition i never had up to this point. as the deaths continued, i decided to visit my mom. she wasn\\'t the greatest mom. she often spent her days at the bar and engaged in one night stands while my dads were left to clean up the mess, so i grew up resenting her. as i rang the doorbell, i felt the same sense of impending doom i felt while at lucas\\'s funeral. soon, my mom opened the door and stifled a sob when she saw me. she attempted a hug, but i pushed her away. \"can i come in?\" i asked. my mom nodded and made some coffee while i sat awkwardly on her couch. as she set down the coffee, i decided to ask her something out of the blue. \"mom, these deaths..are they connected somehow?\" my mom stopped, and dropped the coffee cup. the cup smashed onto the ground as she slowly sat down. \"i think..it\\'s time i tell you the truth\" my mom said. as i listened, my mom explained the truth behind my sibling\\'s deaths see, i had an ancestor, nicholas rightson, who was a bank manager back in the day. however, he was secretly defrauding the very people he was helping, and he managed to get away with nearly 6 million dollars. one night, he was approached by a mysterious demon, who had intended to take his soul. however, nicholas made a deal with the demon: he was going to take the souls of 20 of his relatives, and in exchange, the demon would spare his soul. the only problem was, nicholas failed in his mission. he only killed twelve: his parents, his brothers, sisters, grandma, and grandpa, and his soul was collected as a result. now, the demon was killing off my siblings to collect the rest of the souls. for some strange reason, i instantly believed the story my mom had told me. i slowly sat up, thanked my mom for the coffee, and left the house shaken. as i left, i got the final text: martin had drowned on a weekend getaway with his friends. the same sense of impending doom and dread hit me as i realized that i had been spared from whatever this demon was doing, but that for some reason, it decided to toy with me just for the hell of it. it\\'s been exactly three weeks since all my siblings died. as i write this, most of the supernatural shit that happened to me has completely disappeared. however, that sense of dread and impending doom never left me. for some reason, it\\'s stuck with me, and i feel like it\\'ll stick with me for the rest of my living life.'"
      ]
     },
     "execution_count": 4,
     "metadata": {},
     "output_type": "execute_result"
    }
   ],
   "source": [
    "import json\n",
    "with open(\"data.json\", \"r\") as f:\n",
    "    d = json.load(f)\n",
    "\n",
    "\n",
    "d[\"2\"][\"post\"]"
   ]
  },
  {
   "cell_type": "code",
   "execution_count": null,
   "metadata": {},
   "outputs": [],
   "source": [
    "def sum_list(numbers):\n",
    "    # Base case: when the list is empty, return 0\n",
    "    if not numbers:\n",
    "        return 0\n",
    "    # Recursive case: sum the first number with the sum of the rest of the list\n",
    "    return numbers[0] + sum_list(numbers[1:])\n",
    "\n",
    "# Example usage\n",
    "example_list = [1, 2, 3, 4, 5]\n",
    "result = sum_list(example_list)\n",
    "print(f\"The sum of {example_list} is {result}\")"
   ]
  }
 ],
 "metadata": {
  "kernelspec": {
   "display_name": "Python 3",
   "language": "python",
   "name": "python3"
  },
  "language_info": {
   "codemirror_mode": {
    "name": "ipython",
    "version": 3
   },
   "file_extension": ".py",
   "mimetype": "text/x-python",
   "name": "python",
   "nbconvert_exporter": "python",
   "pygments_lexer": "ipython3",
   "version": "undefined.undefined.undefined"
  }
 },
 "nbformat": 4,
 "nbformat_minor": 2
}
