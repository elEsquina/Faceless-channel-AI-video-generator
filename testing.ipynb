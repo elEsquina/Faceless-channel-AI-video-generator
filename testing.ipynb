{
 "cells": [
  {
   "cell_type": "code",
   "execution_count": null,
   "metadata": {},
   "outputs": [],
   "source": [
    "import openai\n",
    "\n",
    "# Set up your API key\n",
    "openai.api_key = 'YOUR_API_KEY_HERE'\n",
    "\n",
    "# Define a function to interact with ChatGPT\n",
    "def chat_with_gpt(prompt):\n",
    "    response = openai.Completion.create(\n",
    "        engine=\"text-davinci-003\",  # or \"gpt-3.5-turbo\" or \"gpt-4\" based on your needs\n",
    "        prompt=prompt,\n",
    "        max_tokens=150,  # Adjust as needed\n",
    "        temperature=0.7  # Adjust creativity (0.0 to 1.0)\n",
    "    )\n",
    "    return response.choices[0].text.strip()\n",
    "\n",
    "# Example usage\n",
    "user_prompt = \"What's the weather like today?\"\n",
    "reply = chat_with_gpt(user_prompt)\n",
    "print(reply)\n"
   ]
  },
  {
   "cell_type": "code",
   "execution_count": 4,
   "metadata": {},
   "outputs": [
    {
     "data": {
      "text/plain": [
""
      ]
     },
     "execution_count": 4,
     "metadata": {},
     "output_type": "execute_result"
    }
   ],
   "source": [
    "import json\n",
    "with open(\"data.json\", \"r\") as f:\n",
    "    d = json.load(f)\n",
    "\n",
    "\n",
    "d[\"2\"][\"post\"]"
   ]
  },
  {
   "cell_type": "code",
   "execution_count": null,
   "metadata": {},
   "outputs": [],
   "source": [
    "def sum_list(numbers):\n",
    "    # Base case: when the list is empty, return 0\n",
    "    if not numbers:\n",
    "        return 0\n",
    "    # Recursive case: sum the first number with the sum of the rest of the list\n",
    "    return numbers[0] + sum_list(numbers[1:])\n",
    "\n",
    "# Example usage\n",
    "example_list = [1, 2, 3, 4, 5]\n",
    "result = sum_list(example_list)\n",
    "print(f\"The sum of {example_list} is {result}\")"
   ]
  }
 ],
 "metadata": {
  "kernelspec": {
   "display_name": "Python 3",
   "language": "python",
   "name": "python3"
  },
  "language_info": {
   "codemirror_mode": {
    "name": "ipython",
    "version": 3
   },
   "file_extension": ".py",
   "mimetype": "text/x-python",
   "name": "python",
   "nbconvert_exporter": "python",
   "pygments_lexer": "ipython3",
   "version": "undefined.undefined.undefined"
  }
 },
 "nbformat": 4,
 "nbformat_minor": 2
}
